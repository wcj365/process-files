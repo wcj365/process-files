{
  "nbformat": 4,
  "nbformat_minor": 0,
  "metadata": {
    "kernelspec": {
      "display_name": "Python 3",
      "language": "python",
      "name": "python3"
    },
    "language_info": {
      "codemirror_mode": {
        "name": "ipython",
        "version": 3
      },
      "file_extension": ".py",
      "mimetype": "text/x-python",
      "name": "python",
      "nbconvert_exporter": "python",
      "pygments_lexer": "ipython3",
      "version": "3.8.1"
    },
    "colab": {
      "name": "process.ipynb",
      "provenance": [],
      "include_colab_link": true
    }
  },
  "cells": [
    {
      "cell_type": "markdown",
      "metadata": {
        "id": "view-in-github",
        "colab_type": "text"
      },
      "source": [
        "<a href=\"https://colab.research.google.com/github/wcj365/process-files/blob/master/process.ipynb\" target=\"_parent\"><img src=\"https://colab.research.google.com/assets/colab-badge.svg\" alt=\"Open In Colab\"/></a>"
      ]
    },
    {
      "cell_type": "markdown",
      "metadata": {
        "id": "0Q8sifqIhnpo",
        "colab_type": "text"
      },
      "source": [
        "# Background\n",
        "US Census has two public repositories on GitHub related to Disclosure Avoidance System using deferential privacy. I pulled the two repos into my my computers and ran a Linux shell script to extract the full path of all files that are considered \"documentation\" - files without extention or with one of the following extensions: pdf, doc, docx, xls, xlsx, md, txt.\n",
        "\n",
        "The shell script is:\n",
        "\n",
        "`find ./Source/census2020-das-2010ddp-master ./Source/census2020-das-e2e-master -type f ! -name \"*.*\" -o -name \"*.txt\" -o -name \"*.pdf\" -o -name \"*.docx\" -o -name \"*.doc\" -o -name \"*.xls\", -o -name \"*.xlsx\" -o -name \"*.md\" > das_doc_files.txt`\n",
        "\n",
        "This shell script generates a txt file with all the found files with full path. \n",
        "\n",
        "This Jupyter notebook handles the following:\n",
        "- Extract the name of the repository\n",
        "- Extract the name of the file\n",
        "- Extract the file extension \n",
        "- Create a clickable path \n",
        "\n",
        "This notebook demonstrate the use of the folllowing Python and Pandas features:\n",
        "- Reading a file directly from a URL\n",
        "- Reading a file without a header \n",
        "- Functions\n",
        "- Lambda functiond \n",
        "- Pandas apply() function\n",
        "- Special character escaping\n",
        "- split() and replace() \n"
      ]
    },
    {
      "cell_type": "code",
      "metadata": {
        "id": "LzuwuQVfcEdo",
        "colab_type": "code",
        "colab": {}
      },
      "source": [
        "import pandas as pd\n",
        "pd.options.display.max_colwidth = 300"
      ],
      "execution_count": 0,
      "outputs": []
    },
    {
      "cell_type": "code",
      "metadata": {
        "id": "YX4EsLWicEd6",
        "colab_type": "code",
        "colab": {
          "base_uri": "https://localhost:8080/",
          "height": 204
        },
        "outputId": "2ece3ecb-3878-4a7b-e03f-6e5ad4ba4d4b"
      },
      "source": [
        "DATA_URL = \"https://raw.githubusercontent.com/wcj365/process-files/master/das_doc_files.txt?token=AGJZJX5DIWBJST3ZKN27NA26VVX2A\"\n",
        "df = pd.read_csv(DATA_URL, header=None, names=[\"PATH\"])\n",
        "df.head()"
      ],
      "execution_count": 39,
      "outputs": [
        {
          "output_type": "execute_result",
          "data": {
            "text/html": [
              "<div>\n",
              "<style scoped>\n",
              "    .dataframe tbody tr th:only-of-type {\n",
              "        vertical-align: middle;\n",
              "    }\n",
              "\n",
              "    .dataframe tbody tr th {\n",
              "        vertical-align: top;\n",
              "    }\n",
              "\n",
              "    .dataframe thead th {\n",
              "        text-align: right;\n",
              "    }\n",
              "</style>\n",
              "<table border=\"1\" class=\"dataframe\">\n",
              "  <thead>\n",
              "    <tr style=\"text-align: right;\">\n",
              "      <th></th>\n",
              "      <th>PATH</th>\n",
              "    </tr>\n",
              "  </thead>\n",
              "  <tbody>\n",
              "    <tr>\n",
              "      <th>0</th>\n",
              "      <td>./Source/census2020-das-2010ddp-master/das_decennial/configs/Makefile</td>\n",
              "    </tr>\n",
              "    <tr>\n",
              "      <th>1</th>\n",
              "      <td>./Source/census2020-das-2010ddp-master/das_decennial/das_framework/Architecture.md</td>\n",
              "    </tr>\n",
              "    <tr>\n",
              "      <th>2</th>\n",
              "      <td>./Source/census2020-das-2010ddp-master/das_decennial/das_framework/certificate_printer/Makefile</td>\n",
              "    </tr>\n",
              "    <tr>\n",
              "      <th>3</th>\n",
              "      <td>./Source/census2020-das-2010ddp-master/das_decennial/das_framework/certificate_printer/README.md</td>\n",
              "    </tr>\n",
              "    <tr>\n",
              "      <th>4</th>\n",
              "      <td>./Source/census2020-das-2010ddp-master/das_decennial/das_framework/certificate_printer/Seal_of_the_United_States_Census_Bureau.pdf</td>\n",
              "    </tr>\n",
              "  </tbody>\n",
              "</table>\n",
              "</div>"
            ],
            "text/plain": [
              "                                                                                                                                 PATH\n",
              "0                                                               ./Source/census2020-das-2010ddp-master/das_decennial/configs/Makefile\n",
              "1                                                  ./Source/census2020-das-2010ddp-master/das_decennial/das_framework/Architecture.md\n",
              "2                                     ./Source/census2020-das-2010ddp-master/das_decennial/das_framework/certificate_printer/Makefile\n",
              "3                                    ./Source/census2020-das-2010ddp-master/das_decennial/das_framework/certificate_printer/README.md\n",
              "4  ./Source/census2020-das-2010ddp-master/das_decennial/das_framework/certificate_printer/Seal_of_the_United_States_Census_Bureau.pdf"
            ]
          },
          "metadata": {
            "tags": []
          },
          "execution_count": 39
        }
      ]
    },
    {
      "cell_type": "code",
      "metadata": {
        "id": "0XvxejNfcEeE",
        "colab_type": "code",
        "colab": {
          "base_uri": "https://localhost:8080/",
          "height": 51
        },
        "outputId": "5e3b4d2f-5d84-4e47-b0a0-599a6ec0a834"
      },
      "source": [
        "# The repo name is the third element \n",
        "\n",
        "def get_repo(path):\n",
        "    parts = path.split(\"/\")\n",
        "    return parts[2]\n",
        "\n",
        "# The file name is the last element\n",
        "\n",
        "def get_file(path):\n",
        "    parts = path.split(\"/\")\n",
        "    return parts[-1]\n",
        "\n",
        "# To test it out\n",
        "\n",
        "path = \"./Source/census2020-das-2010ddp-master/das_decennial/configs/Makefile\"\n",
        "\n",
        "print(\"REPO =\", get_repo(path))\n",
        "print(\"FILE =\", get_file(path))"
      ],
      "execution_count": 40,
      "outputs": [
        {
          "output_type": "stream",
          "text": [
            "REPO = census2020-das-2010ddp-master\n",
            "FILE = Makefile\n"
          ],
          "name": "stdout"
        }
      ]
    },
    {
      "cell_type": "code",
      "metadata": {
        "id": "LnpOnPlHcEeR",
        "colab_type": "code",
        "colab": {
          "base_uri": "https://localhost:8080/",
          "height": 204
        },
        "outputId": "65d0ae14-6d5b-4a53-a694-1161ee548ce3"
      },
      "source": [
        "# We can use the above functions via apply().\n",
        "# Here we use lambda functions\n",
        "\n",
        "df[\"REPO\"] = df[\"PATH\"].apply(lambda x: x.split(\"/\")[2])\n",
        "df[\"FILE\"] = df[\"PATH\"].apply(lambda x: x.split(\"/\")[-1])\n",
        "\n",
        "df.sample(5)"
      ],
      "execution_count": 41,
      "outputs": [
        {
          "output_type": "execute_result",
          "data": {
            "text/html": [
              "<div>\n",
              "<style scoped>\n",
              "    .dataframe tbody tr th:only-of-type {\n",
              "        vertical-align: middle;\n",
              "    }\n",
              "\n",
              "    .dataframe tbody tr th {\n",
              "        vertical-align: top;\n",
              "    }\n",
              "\n",
              "    .dataframe thead th {\n",
              "        text-align: right;\n",
              "    }\n",
              "</style>\n",
              "<table border=\"1\" class=\"dataframe\">\n",
              "  <thead>\n",
              "    <tr style=\"text-align: right;\">\n",
              "      <th></th>\n",
              "      <th>PATH</th>\n",
              "      <th>REPO</th>\n",
              "      <th>FILE</th>\n",
              "    </tr>\n",
              "  </thead>\n",
              "  <tbody>\n",
              "    <tr>\n",
              "      <th>76</th>\n",
              "      <td>./Source/census2020-das-e2e-master/etc/README.md</td>\n",
              "      <td>census2020-das-e2e-master</td>\n",
              "      <td>README.md</td>\n",
              "    </tr>\n",
              "    <tr>\n",
              "      <th>17</th>\n",
              "      <td>./Source/census2020-das-2010ddp-master/das_decennial/das_framework/ISSUES.md</td>\n",
              "      <td>census2020-das-2010ddp-master</td>\n",
              "      <td>ISSUES.md</td>\n",
              "    </tr>\n",
              "    <tr>\n",
              "      <th>24</th>\n",
              "      <td>./Source/census2020-das-2010ddp-master/das_decennial/das_performance/TTD.md</td>\n",
              "      <td>census2020-das-2010ddp-master</td>\n",
              "      <td>TTD.md</td>\n",
              "    </tr>\n",
              "    <tr>\n",
              "      <th>99</th>\n",
              "      <td>./Source/census2020-das-e2e-master/etl_e2e/census_etl/ref/BPDv3_2016-09-15.pdf</td>\n",
              "      <td>census2020-das-e2e-master</td>\n",
              "      <td>BPDv3_2016-09-15.pdf</td>\n",
              "    </tr>\n",
              "    <tr>\n",
              "      <th>86</th>\n",
              "      <td>./Source/census2020-das-e2e-master/etl_e2e/census_etl/dfxml/README.md</td>\n",
              "      <td>census2020-das-e2e-master</td>\n",
              "      <td>README.md</td>\n",
              "    </tr>\n",
              "  </tbody>\n",
              "</table>\n",
              "</div>"
            ],
            "text/plain": [
              "                                                                              PATH  ...                  FILE\n",
              "76                                ./Source/census2020-das-e2e-master/etc/README.md  ...             README.md\n",
              "17    ./Source/census2020-das-2010ddp-master/das_decennial/das_framework/ISSUES.md  ...             ISSUES.md\n",
              "24     ./Source/census2020-das-2010ddp-master/das_decennial/das_performance/TTD.md  ...                TTD.md\n",
              "99  ./Source/census2020-das-e2e-master/etl_e2e/census_etl/ref/BPDv3_2016-09-15.pdf  ...  BPDv3_2016-09-15.pdf\n",
              "86           ./Source/census2020-das-e2e-master/etl_e2e/census_etl/dfxml/README.md  ...             README.md\n",
              "\n",
              "[5 rows x 3 columns]"
            ]
          },
          "metadata": {
            "tags": []
          },
          "execution_count": 41
        }
      ]
    },
    {
      "cell_type": "code",
      "metadata": {
        "id": "w_rD9QdjcEeX",
        "colab_type": "code",
        "colab": {
          "base_uri": "https://localhost:8080/",
          "height": 34
        },
        "outputId": "a8ad8bc7-0da0-451a-902b-bd735a4fa2ac"
      },
      "source": [
        "# Create a new column that can be clicked to open the file directly\n",
        "# This is to avoid the pain of having to use Windows File Explorer\n",
        "\n",
        "def clickable(path):\n",
        "    path2 = path.replace(\"./\", \"C:\\\\MITRE\\\\Source\\\\\").replace(\"/\", \"\\\\\")\n",
        "    return \"file://\" + path2\n",
        "                     \n",
        "\n",
        "# test it out\n",
        "\n",
        "path = \"./Source/census2020-das-2010ddp-master/das_decennial/configs/Makefile\"\n",
        "\n",
        "print(clickable(path))\n",
        "                                  "
      ],
      "execution_count": 42,
      "outputs": [
        {
          "output_type": "stream",
          "text": [
            "file://C:\\MITRE\\Source\\Source\\census2020-das-2010ddp-master\\das_decennial\\configs\\Makefile\n"
          ],
          "name": "stdout"
        }
      ]
    },
    {
      "cell_type": "code",
      "metadata": {
        "id": "i4WHNxEcldxZ",
        "colab_type": "code",
        "colab": {
          "base_uri": "https://localhost:8080/",
          "height": 479
        },
        "outputId": "ca6435b0-f61e-4c23-fec0-ffff0d2e2fcf"
      },
      "source": [
        "# Apply the function to the data frame\n",
        "\n",
        "df[\"CLICKABLE\"] = df[\"PATH\"].apply(clickable)\n",
        "                                          \n",
        "df.head(5)"
      ],
      "execution_count": 43,
      "outputs": [
        {
          "output_type": "execute_result",
          "data": {
            "text/html": [
              "<div>\n",
              "<style scoped>\n",
              "    .dataframe tbody tr th:only-of-type {\n",
              "        vertical-align: middle;\n",
              "    }\n",
              "\n",
              "    .dataframe tbody tr th {\n",
              "        vertical-align: top;\n",
              "    }\n",
              "\n",
              "    .dataframe thead th {\n",
              "        text-align: right;\n",
              "    }\n",
              "</style>\n",
              "<table border=\"1\" class=\"dataframe\">\n",
              "  <thead>\n",
              "    <tr style=\"text-align: right;\">\n",
              "      <th></th>\n",
              "      <th>PATH</th>\n",
              "      <th>REPO</th>\n",
              "      <th>FILE</th>\n",
              "      <th>CLICKABLE</th>\n",
              "    </tr>\n",
              "  </thead>\n",
              "  <tbody>\n",
              "    <tr>\n",
              "      <th>0</th>\n",
              "      <td>./Source/census2020-das-2010ddp-master/das_decennial/configs/Makefile</td>\n",
              "      <td>census2020-das-2010ddp-master</td>\n",
              "      <td>Makefile</td>\n",
              "      <td>file://C:\\MITRE\\Source\\Source\\census2020-das-2010ddp-master\\das_decennial\\configs\\Makefile</td>\n",
              "    </tr>\n",
              "    <tr>\n",
              "      <th>1</th>\n",
              "      <td>./Source/census2020-das-2010ddp-master/das_decennial/das_framework/Architecture.md</td>\n",
              "      <td>census2020-das-2010ddp-master</td>\n",
              "      <td>Architecture.md</td>\n",
              "      <td>file://C:\\MITRE\\Source\\Source\\census2020-das-2010ddp-master\\das_decennial\\das_framework\\Architecture.md</td>\n",
              "    </tr>\n",
              "    <tr>\n",
              "      <th>2</th>\n",
              "      <td>./Source/census2020-das-2010ddp-master/das_decennial/das_framework/certificate_printer/Makefile</td>\n",
              "      <td>census2020-das-2010ddp-master</td>\n",
              "      <td>Makefile</td>\n",
              "      <td>file://C:\\MITRE\\Source\\Source\\census2020-das-2010ddp-master\\das_decennial\\das_framework\\certificate_printer\\Makefile</td>\n",
              "    </tr>\n",
              "    <tr>\n",
              "      <th>3</th>\n",
              "      <td>./Source/census2020-das-2010ddp-master/das_decennial/das_framework/certificate_printer/README.md</td>\n",
              "      <td>census2020-das-2010ddp-master</td>\n",
              "      <td>README.md</td>\n",
              "      <td>file://C:\\MITRE\\Source\\Source\\census2020-das-2010ddp-master\\das_decennial\\das_framework\\certificate_printer\\README.md</td>\n",
              "    </tr>\n",
              "    <tr>\n",
              "      <th>4</th>\n",
              "      <td>./Source/census2020-das-2010ddp-master/das_decennial/das_framework/certificate_printer/Seal_of_the_United_States_Census_Bureau.pdf</td>\n",
              "      <td>census2020-das-2010ddp-master</td>\n",
              "      <td>Seal_of_the_United_States_Census_Bureau.pdf</td>\n",
              "      <td>file://C:\\MITRE\\Source\\Source\\census2020-das-2010ddp-master\\das_decennial\\das_framework\\certificate_printer\\Seal_of_the_United_States_Census_Bureau.pdf</td>\n",
              "    </tr>\n",
              "  </tbody>\n",
              "</table>\n",
              "</div>"
            ],
            "text/plain": [
              "                                                                                                                                 PATH  ...                                                                                                                                                CLICKABLE\n",
              "0                                                               ./Source/census2020-das-2010ddp-master/das_decennial/configs/Makefile  ...                                                               file://C:\\MITRE\\Source\\Source\\census2020-das-2010ddp-master\\das_decennial\\configs\\Makefile\n",
              "1                                                  ./Source/census2020-das-2010ddp-master/das_decennial/das_framework/Architecture.md  ...                                                  file://C:\\MITRE\\Source\\Source\\census2020-das-2010ddp-master\\das_decennial\\das_framework\\Architecture.md\n",
              "2                                     ./Source/census2020-das-2010ddp-master/das_decennial/das_framework/certificate_printer/Makefile  ...                                     file://C:\\MITRE\\Source\\Source\\census2020-das-2010ddp-master\\das_decennial\\das_framework\\certificate_printer\\Makefile\n",
              "3                                    ./Source/census2020-das-2010ddp-master/das_decennial/das_framework/certificate_printer/README.md  ...                                    file://C:\\MITRE\\Source\\Source\\census2020-das-2010ddp-master\\das_decennial\\das_framework\\certificate_printer\\README.md\n",
              "4  ./Source/census2020-das-2010ddp-master/das_decennial/das_framework/certificate_printer/Seal_of_the_United_States_Census_Bureau.pdf  ...  file://C:\\MITRE\\Source\\Source\\census2020-das-2010ddp-master\\das_decennial\\das_framework\\certificate_printer\\Seal_of_the_United_States_Census_Bureau.pdf\n",
              "\n",
              "[5 rows x 4 columns]"
            ]
          },
          "metadata": {
            "tags": []
          },
          "execution_count": 43
        }
      ]
    },
    {
      "cell_type": "code",
      "metadata": {
        "id": "DXZ40W5GcEed",
        "colab_type": "code",
        "colab": {
          "base_uri": "https://localhost:8080/",
          "height": 462
        },
        "outputId": "44bf3e7c-1d69-4f55-f6d5-99bef259347c"
      },
      "source": [
        "# Create a new column for file extensions\n",
        "\n",
        "def extension(name):\n",
        "    parts = name.split(\".\")\n",
        "    if len(parts) == 1:\n",
        "        return \"\"\n",
        "    else:\n",
        "        return parts[-1]\n",
        "\n",
        "df[\"EXTENSION\"] = df[\"FILE\"].apply(extension)\n",
        "df.sample(5)"
      ],
      "execution_count": 44,
      "outputs": [
        {
          "output_type": "execute_result",
          "data": {
            "text/html": [
              "<div>\n",
              "<style scoped>\n",
              "    .dataframe tbody tr th:only-of-type {\n",
              "        vertical-align: middle;\n",
              "    }\n",
              "\n",
              "    .dataframe tbody tr th {\n",
              "        vertical-align: top;\n",
              "    }\n",
              "\n",
              "    .dataframe thead th {\n",
              "        text-align: right;\n",
              "    }\n",
              "</style>\n",
              "<table border=\"1\" class=\"dataframe\">\n",
              "  <thead>\n",
              "    <tr style=\"text-align: right;\">\n",
              "      <th></th>\n",
              "      <th>PATH</th>\n",
              "      <th>REPO</th>\n",
              "      <th>FILE</th>\n",
              "      <th>CLICKABLE</th>\n",
              "      <th>EXTENSION</th>\n",
              "    </tr>\n",
              "  </thead>\n",
              "  <tbody>\n",
              "    <tr>\n",
              "      <th>35</th>\n",
              "      <td>./Source/census2020-das-2010ddp-master/das_decennial/otherconsts/README.md</td>\n",
              "      <td>census2020-das-2010ddp-master</td>\n",
              "      <td>README.md</td>\n",
              "      <td>file://C:\\MITRE\\Source\\Source\\census2020-das-2010ddp-master\\das_decennial\\otherconsts\\README.md</td>\n",
              "      <td>md</td>\n",
              "    </tr>\n",
              "    <tr>\n",
              "      <th>0</th>\n",
              "      <td>./Source/census2020-das-2010ddp-master/das_decennial/configs/Makefile</td>\n",
              "      <td>census2020-das-2010ddp-master</td>\n",
              "      <td>Makefile</td>\n",
              "      <td>file://C:\\MITRE\\Source\\Source\\census2020-das-2010ddp-master\\das_decennial\\configs\\Makefile</td>\n",
              "      <td></td>\n",
              "    </tr>\n",
              "    <tr>\n",
              "      <th>21</th>\n",
              "      <td>./Source/census2020-das-2010ddp-master/das_decennial/das_framework/SparkSQLDASEngine.md</td>\n",
              "      <td>census2020-das-2010ddp-master</td>\n",
              "      <td>SparkSQLDASEngine.md</td>\n",
              "      <td>file://C:\\MITRE\\Source\\Source\\census2020-das-2010ddp-master\\das_decennial\\das_framework\\SparkSQLDASEngine.md</td>\n",
              "      <td>md</td>\n",
              "    </tr>\n",
              "    <tr>\n",
              "      <th>20</th>\n",
              "      <td>./Source/census2020-das-2010ddp-master/das_decennial/das_framework/README.md</td>\n",
              "      <td>census2020-das-2010ddp-master</td>\n",
              "      <td>README.md</td>\n",
              "      <td>file://C:\\MITRE\\Source\\Source\\census2020-das-2010ddp-master\\das_decennial\\das_framework\\README.md</td>\n",
              "      <td>md</td>\n",
              "    </tr>\n",
              "    <tr>\n",
              "      <th>103</th>\n",
              "      <td>./Source/census2020-das-e2e-master/etl_e2e/mdf/2018_mdf.docx</td>\n",
              "      <td>census2020-das-e2e-master</td>\n",
              "      <td>2018_mdf.docx</td>\n",
              "      <td>file://C:\\MITRE\\Source\\Source\\census2020-das-e2e-master\\etl_e2e\\mdf\\2018_mdf.docx</td>\n",
              "      <td>docx</td>\n",
              "    </tr>\n",
              "  </tbody>\n",
              "</table>\n",
              "</div>"
            ],
            "text/plain": [
              "                                                                                        PATH  ... EXTENSION\n",
              "35                ./Source/census2020-das-2010ddp-master/das_decennial/otherconsts/README.md  ...        md\n",
              "0                      ./Source/census2020-das-2010ddp-master/das_decennial/configs/Makefile  ...          \n",
              "21   ./Source/census2020-das-2010ddp-master/das_decennial/das_framework/SparkSQLDASEngine.md  ...        md\n",
              "20              ./Source/census2020-das-2010ddp-master/das_decennial/das_framework/README.md  ...        md\n",
              "103                             ./Source/census2020-das-e2e-master/etl_e2e/mdf/2018_mdf.docx  ...      docx\n",
              "\n",
              "[5 rows x 5 columns]"
            ]
          },
          "metadata": {
            "tags": []
          },
          "execution_count": 44
        }
      ]
    },
    {
      "cell_type": "code",
      "metadata": {
        "id": "k9ha21hYcEek",
        "colab_type": "code",
        "colab": {}
      },
      "source": [
        "df.to_excel(\"files.xlsx\")"
      ],
      "execution_count": 0,
      "outputs": []
    }
  ]
}